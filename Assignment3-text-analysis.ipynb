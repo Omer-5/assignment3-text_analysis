{
 "cells": [
  {
   "cell_type": "markdown",
   "metadata": {},
   "source": [
    "# Assignment 3 - Text Analysis\n",
    "An explanation this assignment could be found in the .pdf explanation document"
   ]
  },
  {
   "cell_type": "markdown",
   "metadata": {},
   "source": [
    "\n",
    "## Materials to review for this assignment\n",
    "<h4>From Moodle:</h4> \n",
    "<h5><u>Review the notebooks regarding the following python topics</u>:</h5>\n",
    "<div class=\"alert alert-info\">\n",
    "&#x2714; <b>Working with strings</b> (tutorial notebook)<br/>\n",
    "&#x2714; <b>Text Analysis</b> (tutorial notebook)<br/>\n",
    "&#x2714; <b>Hebrew text analysis tools (tokenizer, wordnet)</b> (moodle example)<br/>\n",
    "&#x2714; <b>(brief review) All previous notebooks</b><br/>\n",
    "</div> \n",
    "<h5><u>Review the presentations regarding the following topics</u>:</h5>\n",
    "<div class=\"alert alert-info\">\n",
    "&#x2714; <b>Text Analysis</b> (lecture presentation)<br/>\n",
    "&#x2714; <b>(brief review) All other presentations</b><br/>\n",
    "</div>"
   ]
  },
  {
   "cell_type": "markdown",
   "metadata": {},
   "source": [
    "## Personal Details:"
   ]
  },
  {
   "cell_type": "code",
   "execution_count": 181,
   "metadata": {},
   "outputs": [],
   "source": [
    "# Details Student 1:\n",
    "# Name : Omer hazan\n",
    "# ID : 312473374\n",
    "\n",
    "# Details Student 2:\n"
   ]
  },
  {
   "cell_type": "markdown",
   "metadata": {},
   "source": [
    "## Preceding Step - import modules (packages)\n",
    "This step is necessary in order to use external modules (packages). <br/>"
   ]
  },
  {
   "cell_type": "code",
   "execution_count": 182,
   "metadata": {},
   "outputs": [],
   "source": [
    "# --------------------------------------\n",
    "import pandas as pd\n",
    "import numpy as np\n",
    "# --------------------------------------\n",
    "\n",
    "\n",
    "# --------------------------------------\n",
    "# ------------- visualizations:\n",
    "import seaborn as sns\n",
    "import matplotlib.pyplot as plt\n",
    "from matplotlib.colors import ListedColormap\n",
    "# --------------------------------------\n",
    "\n",
    "\n",
    "# ---------------------------------------\n",
    "import sklearn\n",
    "from sklearn import preprocessing, metrics, pipeline, model_selection, feature_extraction \n",
    "from sklearn import naive_bayes, linear_model, svm, neural_network, neighbors, tree\n",
    "from sklearn import decomposition, cluster\n",
    "\n",
    "from sklearn.model_selection import train_test_split, cross_val_score, GridSearchCV \n",
    "from sklearn.pipeline import Pipeline\n",
    "from sklearn.metrics import accuracy_score, confusion_matrix\n",
    "from sklearn.metrics import precision_score, recall_score, f1_score\n",
    "from sklearn.metrics import mean_squared_error, r2_score, silhouette_score\n",
    "from sklearn.preprocessing import MinMaxScaler, StandardScaler, LabelEncoder\n",
    "from sklearn.feature_selection import SelectKBest, mutual_info_classif\n",
    "\n",
    "from sklearn.svm import LinearSVC\n",
    "from sklearn.neural_network import MLPClassifier\n",
    "from sklearn.linear_model import Perceptron, SGDClassifier\n",
    "from sklearn.decomposition import PCA\n",
    "from sklearn.cluster import KMeans\n",
    "from sklearn.naive_bayes import MultinomialNB, GaussianNB\n",
    "from sklearn.neighbors import KNeighborsClassifier\n",
    "from sklearn.tree import DecisionTreeClassifier\n",
    "# ---------------------------------------\n",
    "\n",
    "\n",
    "# ----------------- output and visualizations: \n",
    "import warnings\n",
    "from sklearn.exceptions import ConvergenceWarning\n",
    "warnings.simplefilter(\"ignore\")\n",
    "warnings.simplefilter(action='ignore', category=FutureWarning)\n",
    "warnings.simplefilter(\"ignore\", category=ConvergenceWarning)\n",
    "# show several prints in one cell. This will allow us to condence every trick in one cell.\n",
    "from IPython.core.interactiveshell import InteractiveShell\n",
    "InteractiveShell.ast_node_interactivity = \"all\"\n",
    "%matplotlib inline\n",
    "pd.pandas.set_option('display.max_columns', None)\n",
    "pd.set_option('display.float_format', lambda x: '%.3f' % x)\n",
    "# ---------------------------------------"
   ]
  },
  {
   "cell_type": "markdown",
   "metadata": {},
   "source": [
    "### Text analysis and String manipulation imports:"
   ]
  },
  {
   "cell_type": "code",
   "execution_count": 183,
   "metadata": {},
   "outputs": [],
   "source": [
    "# --------------------------------------\n",
    "# --------- Text analysis and Hebrew text analysis imports:\n",
    "# vectorizers:\n",
    "from sklearn.feature_extraction import text\n",
    "from sklearn.feature_extraction.text import CountVectorizer, TfidfVectorizer\n",
    "\n",
    "# regular expressions:\n",
    "import re\n",
    "# --------------------------------------"
   ]
  },
  {
   "cell_type": "markdown",
   "metadata": {},
   "source": [
    "### (optional) Hebrew text analysis - WordNet (for Hebrew)\n",
    "Note: the WordNet is not a must"
   ]
  },
  {
   "cell_type": "markdown",
   "metadata": {},
   "source": [
    "#### (optional) Only if you didn't install Wordnet (for Hebrew) use:"
   ]
  },
  {
   "cell_type": "code",
   "execution_count": 184,
   "metadata": {},
   "outputs": [],
   "source": [
    "# word net installation:\n",
    "\n",
    "# unmark if you want to use and need to install\n",
    "# !pip install wn\n",
    "# !python -m wn download omw-he:1.4"
   ]
  },
  {
   "cell_type": "code",
   "execution_count": 185,
   "metadata": {},
   "outputs": [],
   "source": [
    "# word net import:\n",
    "\n",
    "# unmark if you want to use:\n",
    "import wn"
   ]
  },
  {
   "cell_type": "markdown",
   "metadata": {},
   "source": [
    "### (optional) Hebrew text analysis - hebrew_tokenizer (Tokenizer for Hebrew)\n",
    "Note: the hebrew_tokenizer is not a must"
   ]
  },
  {
   "cell_type": "markdown",
   "metadata": {},
   "source": [
    "#### (optional) Only if you didn't install hebrew_tokenizer use:"
   ]
  },
  {
   "cell_type": "code",
   "execution_count": 186,
   "metadata": {},
   "outputs": [],
   "source": [
    "# Hebrew tokenizer installation:\n",
    "\n",
    "# unmark if you want to use and need to install:\n",
    "# !pip install hebrew_tokenizer"
   ]
  },
  {
   "cell_type": "code",
   "execution_count": 187,
   "metadata": {},
   "outputs": [],
   "source": [
    "# Hebrew tokenizer import:\n",
    "\n",
    "# unmark if you want to use:\n",
    "import hebrew_tokenizer as ht"
   ]
  },
  {
   "cell_type": "markdown",
   "metadata": {},
   "source": [
    "### Reading input files\n",
    "Reading input files for train annotated corpus (raw text data) corpus and for the test corpus"
   ]
  },
  {
   "cell_type": "code",
   "execution_count": 188,
   "metadata": {},
   "outputs": [],
   "source": [
    "train_filename = 'annotated_corpus_for_train.csv'\n",
    "test_filename  = 'corpus_for_test.csv'\n",
    "df_train = pd.read_csv(train_filename, index_col=None, encoding='utf-8')\n",
    "df_test  = pd.read_csv(test_filename, index_col=None, encoding='utf-8')"
   ]
  },
  {
   "cell_type": "code",
   "execution_count": 189,
   "metadata": {},
   "outputs": [
    {
     "data": {
      "text/html": [
       "<div>\n",
       "<style scoped>\n",
       "    .dataframe tbody tr th:only-of-type {\n",
       "        vertical-align: middle;\n",
       "    }\n",
       "\n",
       "    .dataframe tbody tr th {\n",
       "        vertical-align: top;\n",
       "    }\n",
       "\n",
       "    .dataframe thead th {\n",
       "        text-align: right;\n",
       "    }\n",
       "</style>\n",
       "<table border=\"1\" class=\"dataframe\">\n",
       "  <thead>\n",
       "    <tr style=\"text-align: right;\">\n",
       "      <th></th>\n",
       "      <th>story</th>\n",
       "      <th>gender</th>\n",
       "    </tr>\n",
       "  </thead>\n",
       "  <tbody>\n",
       "    <tr>\n",
       "      <th>0</th>\n",
       "      <td>כשחבר הזמין אותי לחול, לא באמת חשבתי שזה יקרה,...</td>\n",
       "      <td>m</td>\n",
       "    </tr>\n",
       "    <tr>\n",
       "      <th>1</th>\n",
       "      <td>לפני שהתגייסתי לצבא עשיתי כל מני מיונים ליחידו...</td>\n",
       "      <td>m</td>\n",
       "    </tr>\n",
       "    <tr>\n",
       "      <th>2</th>\n",
       "      <td>מאז שהתחילו הלימודים חלומו של כל סטודנט זה הפנ...</td>\n",
       "      <td>f</td>\n",
       "    </tr>\n",
       "    <tr>\n",
       "      <th>3</th>\n",
       "      <td>כשהייתי ילד, מטוסים היה הדבר שהכי ריתק אותי. ב...</td>\n",
       "      <td>m</td>\n",
       "    </tr>\n",
       "    <tr>\n",
       "      <th>4</th>\n",
       "      <td>‏הייתי מדריכה בכפר נוער ומתאם הכפר היינו צריכי...</td>\n",
       "      <td>f</td>\n",
       "    </tr>\n",
       "    <tr>\n",
       "      <th>5</th>\n",
       "      <td>לפני כ3 חודשים טסתי לרומא למשך שבוע. טסתי במטו...</td>\n",
       "      <td>f</td>\n",
       "    </tr>\n",
       "    <tr>\n",
       "      <th>6</th>\n",
       "      <td>אני כבר שנתיים נשוי והשנה אני ואישתי סוף סוף י...</td>\n",
       "      <td>m</td>\n",
       "    </tr>\n",
       "    <tr>\n",
       "      <th>7</th>\n",
       "      <td>השנה התחלנו שיפוץ בדירה שלנו בתל אביב. הדירה ה...</td>\n",
       "      <td>f</td>\n",
       "    </tr>\n",
       "  </tbody>\n",
       "</table>\n",
       "</div>"
      ],
      "text/plain": [
       "                                               story gender\n",
       "0  כשחבר הזמין אותי לחול, לא באמת חשבתי שזה יקרה,...      m\n",
       "1  לפני שהתגייסתי לצבא עשיתי כל מני מיונים ליחידו...      m\n",
       "2  מאז שהתחילו הלימודים חלומו של כל סטודנט זה הפנ...      f\n",
       "3  כשהייתי ילד, מטוסים היה הדבר שהכי ריתק אותי. ב...      m\n",
       "4  ‏הייתי מדריכה בכפר נוער ומתאם הכפר היינו צריכי...      f\n",
       "5  לפני כ3 חודשים טסתי לרומא למשך שבוע. טסתי במטו...      f\n",
       "6  אני כבר שנתיים נשוי והשנה אני ואישתי סוף סוף י...      m\n",
       "7  השנה התחלנו שיפוץ בדירה שלנו בתל אביב. הדירה ה...      f"
      ]
     },
     "execution_count": 189,
     "metadata": {},
     "output_type": "execute_result"
    },
    {
     "data": {
      "text/plain": [
       "(753, 2)"
      ]
     },
     "execution_count": 189,
     "metadata": {},
     "output_type": "execute_result"
    }
   ],
   "source": [
    "df_train.head(8)\n",
    "df_train.shape"
   ]
  },
  {
   "cell_type": "code",
   "execution_count": 190,
   "metadata": {},
   "outputs": [
    {
     "data": {
      "text/html": [
       "<div>\n",
       "<style scoped>\n",
       "    .dataframe tbody tr th:only-of-type {\n",
       "        vertical-align: middle;\n",
       "    }\n",
       "\n",
       "    .dataframe tbody tr th {\n",
       "        vertical-align: top;\n",
       "    }\n",
       "\n",
       "    .dataframe thead th {\n",
       "        text-align: right;\n",
       "    }\n",
       "</style>\n",
       "<table border=\"1\" class=\"dataframe\">\n",
       "  <thead>\n",
       "    <tr style=\"text-align: right;\">\n",
       "      <th></th>\n",
       "      <th>test_example_id</th>\n",
       "      <th>story</th>\n",
       "    </tr>\n",
       "  </thead>\n",
       "  <tbody>\n",
       "    <tr>\n",
       "      <th>0</th>\n",
       "      <td>0</td>\n",
       "      <td>כל קיץ אני והמשפחה נוסעים לארצות הברית לוס אנג...</td>\n",
       "    </tr>\n",
       "    <tr>\n",
       "      <th>1</th>\n",
       "      <td>1</td>\n",
       "      <td>הגעתי לשירות המדינה אחרי שנתיים כפעיל בתנועת \"...</td>\n",
       "    </tr>\n",
       "    <tr>\n",
       "      <th>2</th>\n",
       "      <td>2</td>\n",
       "      <td>אחת האהבות הגדולות שלי אלו הכלבים שלי ושל אישת...</td>\n",
       "    </tr>\n",
       "  </tbody>\n",
       "</table>\n",
       "</div>"
      ],
      "text/plain": [
       "   test_example_id                                              story\n",
       "0                0  כל קיץ אני והמשפחה נוסעים לארצות הברית לוס אנג...\n",
       "1                1  הגעתי לשירות המדינה אחרי שנתיים כפעיל בתנועת \"...\n",
       "2                2  אחת האהבות הגדולות שלי אלו הכלבים שלי ושל אישת..."
      ]
     },
     "execution_count": 190,
     "metadata": {},
     "output_type": "execute_result"
    },
    {
     "data": {
      "text/plain": [
       "(323, 2)"
      ]
     },
     "execution_count": 190,
     "metadata": {},
     "output_type": "execute_result"
    }
   ],
   "source": [
    "df_test.head(3)\n",
    "df_test.shape"
   ]
  },
  {
   "cell_type": "markdown",
   "metadata": {},
   "source": [
    "### Your implementation:\n",
    "Write your code solution in the following code-cells"
   ]
  },
  {
   "cell_type": "code",
   "execution_count": 191,
   "metadata": {},
   "outputs": [
    {
     "name": "stdout",
     "output_type": "stream",
     "text": [
      "<class 'pandas.core.frame.DataFrame'>\n",
      "RangeIndex: 753 entries, 0 to 752\n",
      "Data columns (total 2 columns):\n",
      " #   Column  Non-Null Count  Dtype \n",
      "---  ------  --------------  ----- \n",
      " 0   story   753 non-null    object\n",
      " 1   gender  753 non-null    object\n",
      "dtypes: object(2)\n",
      "memory usage: 11.9+ KB\n"
     ]
    }
   ],
   "source": [
    "# YOUR CODE HERE\n",
    "df_train.info() # no missing data\n"
   ]
  },
  {
   "cell_type": "code",
   "execution_count": 192,
   "metadata": {},
   "outputs": [],
   "source": [
    "# YOUR CODE HERE\n",
    "\n",
    "### Check for duplicates\n",
    "\n",
    "# df_train.info()\n",
    "# len(df_train.story.unique())\n",
    "# df_train.iloc[752]\n",
    "\n",
    "# df = df_train.duplicated(subset=['story'], keep='first')\n",
    "\n",
    "# df = pd.DataFrame(df_train.drop_duplicates(subset=['story'], keep=\"first\"))\n",
    "# df.info()\n",
    "# df\n",
    "# df_train.compare(df)"
   ]
  },
  {
   "cell_type": "code",
   "execution_count": 193,
   "metadata": {},
   "outputs": [],
   "source": [
    "# Text Preprocessing:\n",
    "def preprocess_story_text(text):\n",
    "    old_text = text\n",
    "    text = re.sub(r'\\W+', ' ', text)     # Remove special characters\n",
    "    text = re.sub(r'\\d+', ' ', text)     # Remove numbers\n",
    "    text = re.sub(r'\\s\\w\\s', ' ', text)  # Cleanup single letters ex: \"כ-3\" will be \"כ\" after above\n",
    "    text = re.sub(r'\\s+', ' ', text)   # Remove extra spacing\n",
    "\n",
    "    # if len(old_text) != len(text):\n",
    "    #     print(f\"{len(old_text) - len(text)}\")\n",
    "    #     print(f\"{old_text}\\n, {text}\\n\\n\")\n",
    "\n",
    "    return text\n",
    "\n",
    "df_train['story'] = df_train['story'].apply(preprocess_story_text)\n",
    "df_test['story'] = df_test['story'].apply(preprocess_story_text)"
   ]
  },
  {
   "cell_type": "code",
   "execution_count": 194,
   "metadata": {},
   "outputs": [],
   "source": [
    "# Text Preprocessing:\n",
    "def preprocess_gender_text(text):\n",
    "    text = re.sub(r'm', '1', text)     \n",
    "    text = re.sub(r'f', '0', text)     \n",
    "\n",
    "    # text = re.sub(r'm', '0', text)     \n",
    "    # text = re.sub(r'f', '1', text)     \n",
    "    return text\n",
    "\n",
    "df_train['gender'] = df_train['gender'].apply(preprocess_gender_text)"
   ]
  },
  {
   "cell_type": "code",
   "execution_count": 195,
   "metadata": {},
   "outputs": [],
   "source": [
    "# Creating validation set:\n",
    "def train_test_split_(df_train: pd.DataFrame, split = 0.2) -> {pd.Series, pd.Series, pd.Series, pd.Series}:\n",
    "    X = df_train[\"story\"]\n",
    "    y = df_train[\"gender\"]\n",
    "    X_train, X_val, y_train, y_val = train_test_split(X, y, test_size=split, random_state=42)\n",
    "\n",
    "    # df_validate = pd.DataFrame({'story' : X_val.reset_index(drop=True),'gender' : y_val.reset_index(drop=True)})\n",
    "    # df_training = pd.DataFrame({'story' : X_train.reset_index(drop=True),'gender' : y_train.reset_index(drop=True)})\n",
    "    # return df_training, df_validate\n",
    "\n",
    "    return X_train, X_val, y_train, y_val"
   ]
  },
  {
   "cell_type": "code",
   "execution_count": 196,
   "metadata": {},
   "outputs": [],
   "source": [
    "# Finding the best Hyper-Parameters:\n",
    "\n",
    "def hyperparameter_tuning(X_val,y_val, scaler, vectorizer):\n",
    "\n",
    "    classifiers = {\n",
    "        'Decision Tree': (DecisionTreeClassifier(), {'classifier__criterion': ['gini', 'entropy', 'log_loss'], 'classifier__max_depth': [None, 3, 5, 7, 9, 10]}),\n",
    "        'K-Nearest Neighbors': (KNeighborsClassifier(), {'classifier__n_neighbors': [3, 5, 7], 'classifier__weights': ['uniform', 'distance']}),\n",
    "        'K-Means': (KMeans(), {'classifier__n_clusters': [2, 3, 4, 5], 'classifier__init': ['k-means++', 'random'], 'classifier__n_init': [15]}),\n",
    "        'Multinomial Naive Bayes': (MultinomialNB(), {'classifier__alpha': [0.1, 1, 10], 'classifier__fit_prior': [True, False], 'classifier__class_prior': [None, [0.3, 0.7], [0.5, 0.5]]}),\n",
    "        'Linear SVM': (LinearSVC(), {'classifier__C': [0.1, 1, 10]}),\n",
    "        'Multi-Layer Perceptron': (MLPClassifier(), {'classifier__hidden_layer_sizes': [(100,), (50, 50)], 'classifier__alpha': [0.0001, 0.001]})\n",
    "    }\n",
    "    \n",
    "\n",
    "\n",
    "# vec = TfidfVectorizer(min_df = 5)\n",
    "# vec = CountVectorizer(max_features=3)\n",
    "# ht.tokenize()"
   ]
  },
  {
   "cell_type": "code",
   "execution_count": 218,
   "metadata": {},
   "outputs": [],
   "source": [
    "# TODO: create test preparation after tuning\n",
    "def before_tuning_preparations_train(df_train:pd.DataFrame):\n",
    "    # Split data\n",
    "    X = df_train[\"story\"]\n",
    "    y = df_train[\"gender\"]\n",
    "\n",
    "    # Vectorize the data:\n",
    "    # vec = TfidfVectorizer(ngram_range = (1,1), min_df = 5)\n",
    "    # vec = TfidfVectorizer(ngram_range = (1,2), min_df = 5)\n",
    "    # vec = CountVectorizer(max_features = 20)\n",
    "    # vec = CountVectorizer(max_features = 50)\n",
    "    # vec = CountVectorizer(max_features = 10)\n",
    "    X_vec = vec.fit_transform(X)\n",
    "\n",
    "    # Feature Selection:\n",
    "    selector = SelectKBest(mutual_info_classif, k='all') \n",
    "    X_selected = selector.fit_transform(X_vec, np.zeros(X_vec.shape[0]))\n",
    "    selector.fit(X_vec, y)\n",
    "    X_selected = selector.transform(X_vec)\n",
    "\n",
    "    # Scaling:\n",
    "    scaler = MinMaxScaler()\n",
    "    # scaler = StandardScaler()\n",
    "    X = scaler.fit_transform(X_selected.toarray())\n",
    "\n",
    "    # print(X.shape)\n",
    "    # print(X_vec.shape)\n",
    "    # print(\"\\n\\n\\n\\n\")\n",
    "    # print(y)\n",
    "\n",
    "    return X, y\n",
    "\n",
    "# X, y = before_tuning_preparations_train(df_train)\n"
   ]
  },
  {
   "cell_type": "code",
   "execution_count": 198,
   "metadata": {},
   "outputs": [],
   "source": [
    "def find_best_decision_tree(X_train: pd.Series, y_train: pd.Series):\n",
    "    model = DecisionTreeClassifier()\n",
    "    # params =  {'criterion': ['gini', 'entropy', 'log_loss'], 'max_depth': [None, 3, 5, 7, 9, 10]} got max_depth: 7\n",
    "    params =  {'criterion': ['gini', 'entropy', 'log_loss'], 'max_depth': [None, 5, 6, 7, 8, 9, 10]} # max_dept: 8\n",
    "\n",
    "    # cross validation\n",
    "    grid_search = GridSearchCV(model, params, cv = 10, n_jobs = -1)\n",
    "    grid_search.fit(X_train, y_train)\n",
    "    best_params = grid_search.best_params_\n",
    "\n",
    "    best_model = DecisionTreeClassifier(**best_params)\n",
    "    best_model.fit(X_train, y_train)\n",
    "\n",
    "    return best_model, best_params"
   ]
  },
  {
   "cell_type": "code",
   "execution_count": 199,
   "metadata": {},
   "outputs": [],
   "source": [
    "def find_best_logistic_regression(X_train: pd.Series, y_train: pd.Series):\n",
    "    model = linear_model.LogisticRegression()\n",
    "    # params = {'C': [0.1, 1,5, 7, 10, 12, 15], 'penalty': ['l1', 'l2'], 'multi_class': ['ovr']} got C=15\n",
    "    # params = {'C': [15, 20 , 25], 'penalty': ['l1', 'l2'], 'multi_class': ['ovr']} got C=20\n",
    "    # params = {'C': [19, 20 , 21], 'penalty': ['l1', 'l2'], 'multi_class': ['ovr']} got C=19\n",
    "    params = {'C': [17, 18, 19], 'penalty': ['l1', 'l2'], 'multi_class': ['ovr']}\n",
    "\n",
    "    # cross validation\n",
    "    grid_search = GridSearchCV(model, params, cv = 10, n_jobs = -1)\n",
    "    grid_search.fit(X_train, y_train)\n",
    "    best_params = grid_search.best_params_\n",
    "\n",
    "    best_model = linear_model.LogisticRegression(**best_params)\n",
    "    best_model.fit(X_train, y_train)  \n",
    "\n",
    "    return best_model, best_params"
   ]
  },
  {
   "cell_type": "code",
   "execution_count": 200,
   "metadata": {},
   "outputs": [],
   "source": [
    "# def find_best_k_means(X_train: pd.Series, y_train: pd.Series):\n",
    "#     model = KMeans()\n",
    "#     params = {'n_clusters': [2], 'init': ['k-means++', 'random'], 'n_init': [15]}\n",
    "\n",
    "#     # cross validation\n",
    "#     grid_search = GridSearchCV(model, params, cv = 10, n_jobs = -1)\n",
    "#     grid_search.fit(X_train, y_train)\n",
    "#     best_params = grid_search.best_params_\n",
    "\n",
    "#     print(best_params)\n",
    "\n",
    "#     best_model = KMeans(**best_params)\n",
    "#     best_model.fit(X_train, y_train)  \n",
    "\n",
    "#     return best_model"
   ]
  },
  {
   "cell_type": "code",
   "execution_count": 201,
   "metadata": {},
   "outputs": [],
   "source": [
    "def find_best_naive_bayes(X_train: pd.Series, y_train: pd.Series):\n",
    "   model = MultinomialNB()\n",
    "   # params = {'alpha': [0.1, 1, 10], 'fit_prior': [True, False], 'class_prior': [None, [0.3, 0.7], [0.5, 0.5]]} got C = 0.1\n",
    "   # params = {'alpha': [0.01, 0.05, 0.1, 0.15, 0.2, 0.3, 1, 10], 'fit_prior': [True, False], 'class_prior': [None, [0.3, 0.7], [0.5, 0.5]]} got C=0.2\n",
    "   # params = {'alpha': [0.17, 0.2, 0.225], 'fit_prior': [True, False], 'class_prior': [None, [0.3, 0.7], [0.5, 0.5]]} still C=0.2\n",
    "   # params = {'alpha': [0.17, 0.2, 0.225], 'fit_prior': [True, False], 'class_prior': [None, [0.2, 0.8], [0.4, 0.6], [0.3, 0.7]]}\n",
    "   # params = {'alpha': [0.17, 0.2, 0.225, 0], 'fit_prior': [True, False], 'class_prior': [None, [0.35, 0.65], [0.3, 0.7], [0.25, 0.75]]}\n",
    "   params = {'alpha': [0.17, 0.2, 0.225, 0.25, 0.3], 'fit_prior': [True, False], 'class_prior': [None, [0.35, 0.65], [0.3, 0.7], [0.25, 0.75]]}\n",
    "\n",
    "   # cross validation\n",
    "   grid_search = GridSearchCV(model, params, cv = 10, n_jobs = -1)\n",
    "   grid_search.fit(X_train, y_train)\n",
    "   best_params = grid_search.best_params_\n",
    "\n",
    "   best_model = MultinomialNB(**best_params)\n",
    "   best_model.fit(X_train, y_train)  \n",
    "\n",
    "   return best_model, best_params"
   ]
  },
  {
   "cell_type": "code",
   "execution_count": 202,
   "metadata": {},
   "outputs": [],
   "source": [
    "def find_best_svm(X_train: pd.Series, y_train: pd.Series):\n",
    "    model = LinearSVC()\n",
    "    # params = {'penalty': ['l1', 'l2'], 'loss': ['hinge', 'squared_hinge'], 'C': [0.1, 1, 10]} got C=0.1\n",
    "    params = {'penalty': ['l1', 'l2'], 'loss': ['hinge', 'squared_hinge'], 'C': [0.05, 0.09, 0.1, 0.11, 0.15, 0.2]}\n",
    " \n",
    "   # cross validation\n",
    "    grid_search = GridSearchCV(model, params, cv = 10, n_jobs = -1)\n",
    "    grid_search.fit(X_train, y_train)\n",
    "    best_params = grid_search.best_params_\n",
    "\n",
    "    best_model = LinearSVC(**best_params)\n",
    "    best_model.fit(X_train, y_train)  \n",
    "\n",
    "    return best_model, best_params"
   ]
  },
  {
   "cell_type": "code",
   "execution_count": 203,
   "metadata": {},
   "outputs": [],
   "source": [
    "def calc_and_display_scores(name, model, X: pd.Series, y: pd.Series, best_params):\n",
    "    score = cross_val_score(model, X, y, scoring='f1_macro', cv=10, n_jobs=-1)\n",
    "    print(f\"***** {name} *****\")\n",
    "    print(best_params)\n",
    "    print(score.mean()) \n",
    "    print(\"\\n\")\n"
   ]
  },
  {
   "cell_type": "code",
   "execution_count": null,
   "metadata": {},
   "outputs": [],
   "source": [
    "# Main Flow\n",
    "\n",
    "# Text Cleanup\n",
    "df_train['story'] = df_train['story'].apply(preprocess_story_text)\n",
    "df_test['story'] = df_test['story'].apply(preprocess_story_text)\n",
    "\n",
    "# Encode Gender\n",
    "df_train['gender'] = df_train['gender'].apply(preprocess_gender_text)\n",
    "\n",
    "# prepare data\n",
    "X_train, y_train = before_tuning_preparations_train(df_train)\n",
    "\n",
    "# find best modal for each\n",
    "best_decision_tree, dt_best_params = find_best_decision_tree(X_train, y_train)\n",
    "# best_k_means = find_best_k_means(X_train, y_train)\n",
    "best_logistic_regression, lr_best_params = find_best_logistic_regression(X_train, y_train)\n",
    "best_naive_bayes, nb_best_params = find_best_naive_bayes(X_train, y_train)\n",
    "best_svm, svm_best_params = find_best_svm(X_train, y_train)\n",
    "\n",
    "# evaluate model performance\n",
    "calc_and_display_scores(\"Decision Tree\", best_decision_tree, X_train, y_train, dt_best_params)\n",
    "# calc_and_display_scores(\"K-Means\", best_k_means, X_train, y_train)\n",
    "calc_and_display_scores(\"Logistic Regression\", best_logistic_regression, X_train, y_train, lr_best_params)\n",
    "calc_and_display_scores(\"Naive Bayes\", best_naive_bayes, X_train, y_train, nb_best_params)\n",
    "calc_and_display_scores(\"SVM\", best_svm, X_train, y_train, svm_best_params)\n",
    "\n",
    "# prepare test data\n",
    "\n",
    "# run best model on test\n"
   ]
  },
  {
   "cell_type": "code",
   "execution_count": 205,
   "metadata": {},
   "outputs": [
    {
     "name": "stdout",
     "output_type": "stream",
     "text": [
      "***** Decision Tree *****\n",
      "{'criterion': 'gini', 'max_depth': 9}\n",
      "0.6026930664338047\n",
      "\n",
      "\n"
     ]
    }
   ],
   "source": [
    "best_decision_tree, dt_best_params = find_best_decision_tree(X_train, y_train)\n",
    "# best_logistic_regression, lr_best_params = find_best_logistic_regression(X_train, y_train)\n",
    "# best_naive_bayes, nb_best_params = find_best_naive_bayes(X_train, y_train)\n",
    "# best_svm, svm_best_params = find_best_svm(X_train, y_train)\n",
    "\n",
    "# evaluate model performance\n",
    "calc_and_display_scores(\"Decision Tree\", best_decision_tree, X_train, y_train, dt_best_params)\n",
    "# calc_and_display_scores(\"Logistic Regression\", best_logistic_regression, X_train, y_train, lr_best_params)\n",
    "# calc_and_display_scores(\"Naive Bayes\", best_naive_bayes, X_train, y_train, nb_best_params)\n",
    "# calc_and_display_scores(\"SVM\", best_svm, X_train, y_train, svm_best_params)"
   ]
  },
  {
   "cell_type": "code",
   "execution_count": null,
   "metadata": {},
   "outputs": [],
   "source": [
    "# Initial Scores before tuning:\n",
    "# Dropping K-Means, can't fix bad results\n",
    "\n",
    "# ***** Decision Tree *****\n",
    "# {'criterion': 'gini', 'max_depth': 7}\n",
    "# 0.5906157062274447\n",
    "\n",
    "# ***** K-Means *****\n",
    "# nan\n",
    "\n",
    "# ***** Logistic Regression *****\n",
    "# {'C': 10, 'multi_class': 'ovr', 'penalty': 'l2'}\n",
    "# 0.5975029101388863\n",
    "\n",
    "# ***** Naive Bayes *****\n",
    "# {'alpha': 0.1, 'class_prior': None, 'fit_prior': False}\n",
    "# 0.6010884801627505\n",
    "\n",
    "# ***** SVM *****\n",
    "# {'C': 0.1, 'loss': 'hinge', 'penalty': 'l2'}\n",
    "# 0.6515963909551301\n"
   ]
  },
  {
   "cell_type": "code",
   "execution_count": null,
   "metadata": {},
   "outputs": [],
   "source": [
    "# tuning hyper parameters:\n",
    "\n",
    "# ***** Decision Tree *****\n",
    "# {'criterion': 'gini', 'max_depth': 8}\n",
    "# 0.5937440736482061\n",
    "\n",
    "# {'C': 17, 'multi_class': 'ovr', 'penalty': 'l2'}\n",
    "# ***** Logistic Regression *****\n",
    "# 0.6144839900244524\n",
    "\n",
    "# {'alpha': 0.225, 'class_prior': [0.25, 0.75], 'fit_prior': True}\n",
    "# ***** Naive Bayes *****\n",
    "# 0.6389862182737506\n",
    "\n",
    "# ***** SVM *****\n",
    "# {'C': 0.1, 'loss': 'hinge', 'penalty': 'l2'}\n",
    "# 0.6515963909551301"
   ]
  },
  {
   "cell_type": "code",
   "execution_count": null,
   "metadata": {},
   "outputs": [],
   "source": [
    "# Tried using StandardScaler:\n",
    "# Not compatible with MultinomialNB and got worse results other than Decision Tree\n",
    "\n",
    "# ***** Decision Tree *****\n",
    "# {'criterion': 'gini', 'max_depth': 8}\n",
    "# 0.6105151874513002\n",
    "\n",
    "# ***** Logistic Regression *****\n",
    "# {'C': 18, 'multi_class': 'ovr', 'penalty': 'l2'}\n",
    "# 0.5320342069794771\n",
    "\n",
    "# ***** SVM *****\n",
    "# {'C': 0.05, 'loss': 'hinge', 'penalty': 'l2'}\n",
    "# 0.23024308345336536"
   ]
  },
  {
   "cell_type": "code",
   "execution_count": null,
   "metadata": {},
   "outputs": [],
   "source": [
    "# Tuning ngram_range:\n",
    "# vec = TfidfVectorizer(ngram_range = (1,2), min_df = 5)\n",
    "# Naive Bayes really improved a lot the others decreased\n",
    "# Other attempt to improve vectorization din't improve, didn't save result\n",
    "\n",
    "# ***** Decision Tree *****\n",
    "# {'criterion': 'log_loss', 'max_depth': 8}\n",
    "# 0.5818965868866559\n",
    "\n",
    "# ***** Logistic Regression *****\n",
    "# {'C': 17, 'multi_class': 'ovr', 'penalty': 'l2'}\n",
    "# 0.5888010588138272\n",
    "\n",
    "# ***** Naive Bayes *****\n",
    "# {'alpha': 0.3, 'class_prior': None, 'fit_prior': True}\n",
    "# 0.6755624309104158\n",
    "\n",
    "# ***** SVM *****\n",
    "# {'C': 0.09, 'loss': 'hinge', 'penalty': 'l2'}\n",
    "# 0.635969203632285"
   ]
  },
  {
   "cell_type": "markdown",
   "metadata": {},
   "source": [
    "### Save output to csv (optional)\n",
    "After you're done save your output to the 'classification_results.csv' csv file.<br/>\n",
    "We assume that the dataframe with your results contain the following columns:\n",
    "* column 1 (left column): 'test_example_id'  - the same id associated to each of the test stories to be predicted.\n",
    "* column 2 (right column): 'predicted_category' - the predicted gender value for each of the associated story. \n",
    "\n",
    "Assuming your predicted values are in the `df_predicted` dataframe, you should save you're results as following:"
   ]
  },
  {
   "cell_type": "code",
   "execution_count": null,
   "metadata": {},
   "outputs": [
    {
     "ename": "NameError",
     "evalue": "name 'df_predicted' is not defined",
     "output_type": "error",
     "traceback": [
      "\u001b[1;31m---------------------------------------------------------------------------\u001b[0m",
      "\u001b[1;31mNameError\u001b[0m                                 Traceback (most recent call last)",
      "Cell \u001b[1;32mIn[138], line 1\u001b[0m\n\u001b[1;32m----> 1\u001b[0m df_predicted\u001b[39m.\u001b[39mto_csv(\u001b[39m'\u001b[39m\u001b[39mclassification_results.csv\u001b[39m\u001b[39m'\u001b[39m,index\u001b[39m=\u001b[39m\u001b[39mFalse\u001b[39;00m)\n",
      "\u001b[1;31mNameError\u001b[0m: name 'df_predicted' is not defined"
     ]
    }
   ],
   "source": [
    "df_predicted.to_csv('classification_results.csv',index=False)"
   ]
  }
 ],
 "metadata": {
  "celltoolbar": "Create Assignment",
  "kernelspec": {
   "display_name": "Python 3 (ipykernel)",
   "language": "python",
   "name": "python3"
  },
  "language_info": {
   "codemirror_mode": {
    "name": "ipython",
    "version": 3
   },
   "file_extension": ".py",
   "mimetype": "text/x-python",
   "name": "python",
   "nbconvert_exporter": "python",
   "pygments_lexer": "ipython3",
   "version": "3.11.5"
  }
 },
 "nbformat": 4,
 "nbformat_minor": 4
}
